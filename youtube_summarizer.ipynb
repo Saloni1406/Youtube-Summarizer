{
  "cells": [
    {
      "cell_type": "code",
      "execution_count": 1,
      "metadata": {
        "id": "IahjZNgM2QF4"
      },
      "outputs": [],
      "source": [
        "!pip install -q transformers"
      ]
    },
    {
      "cell_type": "code",
      "execution_count": 2,
      "metadata": {
        "id": "KQJmde6F2QC8"
      },
      "outputs": [],
      "source": [
        "!pip install -q youtube_transcript_api"
      ]
    },
    {
      "cell_type": "code",
      "execution_count": 3,
      "metadata": {
        "colab": {
          "base_uri": "https://localhost:8080/"
        },
        "id": "IcLPZ5502QA2",
        "outputId": "7112b385-9c7c-4dae-b95a-7862190b6875"
      },
      "outputs": [
        {
          "output_type": "stream",
          "name": "stdout",
          "text": [
            "\u001b[?25l     \u001b[90m━━━━━━━━━━━━━━━━━━━━━━━━━━━━━━━━━━━━━━━━\u001b[0m \u001b[32m0.0/57.6 kB\u001b[0m \u001b[31m?\u001b[0m eta \u001b[36m-:--:--\u001b[0m\r\u001b[2K     \u001b[90m━━━━━━━━━━━━━━━━━━━━━━━━━━━━━━━━━━━━━━━━\u001b[0m \u001b[32m57.6/57.6 kB\u001b[0m \u001b[31m2.4 MB/s\u001b[0m eta \u001b[36m0:00:00\u001b[0m\n",
            "\u001b[?25h"
          ]
        }
      ],
      "source": [
        "!pip install -q pytube #To download Youtube videos"
      ]
    },
    {
      "cell_type": "code",
      "execution_count": 4,
      "metadata": {
        "id": "F03AqozM2P9g"
      },
      "outputs": [],
      "source": [
        "!pip install -q moviepy #To extract audio from downloaded videos"
      ]
    },
    {
      "cell_type": "code",
      "execution_count": 5,
      "metadata": {
        "colab": {
          "base_uri": "https://localhost:8080/"
        },
        "id": "xZHj8IHQ2P7F",
        "outputId": "346d5b37-6775-43b7-84fb-b450300f7911"
      },
      "outputs": [
        {
          "output_type": "stream",
          "name": "stdout",
          "text": [
            "\u001b[2K     \u001b[90m━━━━━━━━━━━━━━━━━━━━━━━━━━━━━━━━━━━━━━━━\u001b[0m \u001b[32m32.8/32.8 MB\u001b[0m \u001b[31m36.5 MB/s\u001b[0m eta \u001b[36m0:00:00\u001b[0m\n",
            "\u001b[?25h"
          ]
        }
      ],
      "source": [
        "!pip install -q SpeechRecognition pydub"
      ]
    },
    {
      "cell_type": "code",
      "execution_count": 6,
      "metadata": {
        "colab": {
          "base_uri": "https://localhost:8080/"
        },
        "id": "ZhmVLXxy2P4v",
        "outputId": "4e9aa339-3468-4d8b-cce8-41994487f28a"
      },
      "outputs": [
        {
          "output_type": "stream",
          "name": "stdout",
          "text": [
            "Collecting assemblyai\n",
            "  Downloading assemblyai-0.23.0-py3-none-any.whl (66 kB)\n",
            "\u001b[2K     \u001b[90m━━━━━━━━━━━━━━━━━━━━━━━━━━━━━━━━━━━━━━━━\u001b[0m \u001b[32m66.2/66.2 kB\u001b[0m \u001b[31m2.5 MB/s\u001b[0m eta \u001b[36m0:00:00\u001b[0m\n",
            "\u001b[?25hCollecting httpx>=0.19.0 (from assemblyai)\n",
            "  Downloading httpx-0.27.0-py3-none-any.whl (75 kB)\n",
            "\u001b[2K     \u001b[90m━━━━━━━━━━━━━━━━━━━━━━━━━━━━━━━━━━━━━━━━\u001b[0m \u001b[32m75.6/75.6 kB\u001b[0m \u001b[31m4.9 MB/s\u001b[0m eta \u001b[36m0:00:00\u001b[0m\n",
            "\u001b[?25hRequirement already satisfied: pydantic!=1.10.7,>=1.7.0 in /usr/local/lib/python3.10/dist-packages (from assemblyai) (2.6.3)\n",
            "Requirement already satisfied: typing-extensions>=3.7 in /usr/local/lib/python3.10/dist-packages (from assemblyai) (4.10.0)\n",
            "Collecting websockets>=11.0 (from assemblyai)\n",
            "  Downloading websockets-12.0-cp310-cp310-manylinux_2_5_x86_64.manylinux1_x86_64.manylinux_2_17_x86_64.manylinux2014_x86_64.whl (130 kB)\n",
            "\u001b[2K     \u001b[90m━━━━━━━━━━━━━━━━━━━━━━━━━━━━━━━━━━━━━━━━\u001b[0m \u001b[32m130.2/130.2 kB\u001b[0m \u001b[31m12.5 MB/s\u001b[0m eta \u001b[36m0:00:00\u001b[0m\n",
            "\u001b[?25hRequirement already satisfied: anyio in /usr/local/lib/python3.10/dist-packages (from httpx>=0.19.0->assemblyai) (3.7.1)\n",
            "Requirement already satisfied: certifi in /usr/local/lib/python3.10/dist-packages (from httpx>=0.19.0->assemblyai) (2024.2.2)\n",
            "Collecting httpcore==1.* (from httpx>=0.19.0->assemblyai)\n",
            "  Downloading httpcore-1.0.4-py3-none-any.whl (77 kB)\n",
            "\u001b[2K     \u001b[90m━━━━━━━━━━━━━━━━━━━━━━━━━━━━━━━━━━━━━━━━\u001b[0m \u001b[32m77.8/77.8 kB\u001b[0m \u001b[31m10.2 MB/s\u001b[0m eta \u001b[36m0:00:00\u001b[0m\n",
            "\u001b[?25hRequirement already satisfied: idna in /usr/local/lib/python3.10/dist-packages (from httpx>=0.19.0->assemblyai) (3.6)\n",
            "Requirement already satisfied: sniffio in /usr/local/lib/python3.10/dist-packages (from httpx>=0.19.0->assemblyai) (1.3.1)\n",
            "Collecting h11<0.15,>=0.13 (from httpcore==1.*->httpx>=0.19.0->assemblyai)\n",
            "  Downloading h11-0.14.0-py3-none-any.whl (58 kB)\n",
            "\u001b[2K     \u001b[90m━━━━━━━━━━━━━━━━━━━━━━━━━━━━━━━━━━━━━━━━\u001b[0m \u001b[32m58.3/58.3 kB\u001b[0m \u001b[31m7.9 MB/s\u001b[0m eta \u001b[36m0:00:00\u001b[0m\n",
            "\u001b[?25hRequirement already satisfied: annotated-types>=0.4.0 in /usr/local/lib/python3.10/dist-packages (from pydantic!=1.10.7,>=1.7.0->assemblyai) (0.6.0)\n",
            "Requirement already satisfied: pydantic-core==2.16.3 in /usr/local/lib/python3.10/dist-packages (from pydantic!=1.10.7,>=1.7.0->assemblyai) (2.16.3)\n",
            "Requirement already satisfied: exceptiongroup in /usr/local/lib/python3.10/dist-packages (from anyio->httpx>=0.19.0->assemblyai) (1.2.0)\n",
            "Installing collected packages: websockets, h11, httpcore, httpx, assemblyai\n",
            "Successfully installed assemblyai-0.23.0 h11-0.14.0 httpcore-1.0.4 httpx-0.27.0 websockets-12.0\n"
          ]
        }
      ],
      "source": [
        "!pip install -U assemblyai"
      ]
    },
    {
      "cell_type": "code",
      "execution_count": 7,
      "metadata": {
        "id": "bfPz8KLy2P2b"
      },
      "outputs": [],
      "source": [
        "from transformers import pipeline\n",
        "from youtube_transcript_api import YouTubeTranscriptApi"
      ]
    },
    {
      "cell_type": "code",
      "execution_count": 23,
      "metadata": {
        "colab": {
          "base_uri": "https://localhost:8080/"
        },
        "id": "eyBAE_zh2Pz0",
        "outputId": "97455d56-12b0-4339-dc01-b4858c5d53c6"
      },
      "outputs": [
        {
          "name": "stdout",
          "output_type": "stream",
          "text": [
            "Enter Youtube Video Linkhttps://www.youtube.com/watch?v=HB4I2CgkcCo\n"
          ]
        }
      ],
      "source": [
        "youtube_video = input(\"Enter Youtube Video Link\")"
      ]
    },
    {
      "cell_type": "code",
      "execution_count": 24,
      "metadata": {
        "colab": {
          "base_uri": "https://localhost:8080/"
        },
        "id": "wdoMaC8C2PxR",
        "outputId": "32fe5ec3-85c6-4511-e089-3429230ac73c"
      },
      "outputs": [
        {
          "output_type": "stream",
          "name": "stdout",
          "text": [
            "HB4I2CgkcCo\n"
          ]
        }
      ],
      "source": [
        "video_id = youtube_video.split(\"=\")[1]\n",
        "print(video_id)"
      ]
    },
    {
      "cell_type": "code",
      "execution_count": 25,
      "metadata": {
        "colab": {
          "base_uri": "https://localhost:8080/",
          "height": 321
        },
        "id": "wgLserIW2GvX",
        "outputId": "36fee9da-d84c-4c7e-8e98-79f6362361d5"
      },
      "outputs": [
        {
          "output_type": "execute_result",
          "data": {
            "text/plain": [
              "<IPython.lib.display.YouTubeVideo at 0x7cac3ed4efe0>"
            ],
            "text/html": [
              "\n",
              "        <iframe\n",
              "            width=\"400\"\n",
              "            height=\"300\"\n",
              "            src=\"https://www.youtube.com/embed/HB4I2CgkcCo\"\n",
              "            frameborder=\"0\"\n",
              "            allowfullscreen\n",
              "            \n",
              "        ></iframe>\n",
              "        "
            ],
            "image/jpeg": "[encoded data removed]"
          },
          "metadata": {},
          "execution_count": 25
        }
      ],
      "source": [
        "from IPython.display import YouTubeVideo\n",
        "YouTubeVideo(video_id)"
      ]
    },
    {
      "cell_type": "code",
      "execution_count": 27,
      "metadata": {
        "colab": {
          "base_uri": "https://localhost:8080/"
        },
        "id": "atiws4Y23RZL",
        "outputId": "007c46db-0d1c-4698-9a08-988dde6ef645"
      },
      "outputs": [
        {
          "output_type": "stream",
          "name": "stdout",
          "text": [
            "MoviePy - Writing audio in video.mp3\n"
          ]
        },
        {
          "output_type": "stream",
          "name": "stderr",
          "text": [
            "                                                                     "
          ]
        },
        {
          "output_type": "stream",
          "name": "stdout",
          "text": [
            "MoviePy - Done.\n"
          ]
        },
        {
          "output_type": "stream",
          "name": "stderr",
          "text": [
            "\r"
          ]
        }
      ],
      "source": [
        "from pytube import YouTube\n",
        "from moviepy.editor import *\n",
        "yt = YouTube(youtube_video)#Download Video\n",
        "stream = yt.streams.get_highest_resolution()\n",
        "stream.download()\n",
        "video = VideoFileClip('video.mp4')#Extracting audio from downloaded video\n",
        "audio = video.audio\n",
        "audio.write_audiofile('video.mp3')#Deleting the downloaded video file\n",
        "os.remove('video.mp4')"
      ]
    },
    {
      "cell_type": "code",
      "execution_count": 28,
      "metadata": {
        "id": "8UktQSQd3eCI"
      },
      "outputs": [],
      "source": [
        "import speech_recognition as sr\n",
        "filename = \"video.mp3\"\n",
        "r = sr.Recognizer()"
      ]
    },
    {
      "cell_type": "code",
      "execution_count": 29,
      "metadata": {
        "colab": {
          "base_uri": "https://localhost:8080/"
        },
        "id": "Lq2eCyeX3lqz",
        "outputId": "e4d93f13-763d-43c0-9b83-0a4a4d1d8d86"
      },
      "outputs": [
        {
          "output_type": "stream",
          "name": "stdout",
          "text": [
            "You may already know that there are many important parts inside a computer, but what exactly do they do? Let's take a look inside and learn about the various components that make a computer work. Whether it's a desktop computer or a laptop, every computer has a large circuit board called a motherboard. This contains some of the most important parts of the computer, such as the CP, also known as the central processing unit or processor. The CPU can be considered the brain of the computer because it processes information and carries out commands. Since it tends to get hot, it's covered by a piece of metal called a heatsink, which draws heat away from the processor. The motherboard also contains the computer's ram, or random access memory. This is the short term memory that the computer uses whenever it's performing calculations. However, you cannot store your files there because the ram is cleared when you shut off the computer. The hard drive provides long term storage, keeping all of the computer's data even when it's turned off. Many hard drives use a magnetic platter to store data, but many newer computers have solid state drives, which are faster and more durable, but also more expensive. On many desktop computers, the motherboard has expansion slots that allow you to upgrade by adding expansion cards. You can add a video card to get better graphics performance, or you can add a wireless card to connect to your wireless home network. Most laptops, however, don't have expansion slots. Of course, the computer's components need electricity to run. The power supply unit is designed to take power from the wall outlet and send it to all of the different components that need power. Laptops also contain a built in battery that lets you use them anywhere. A computer is a pretty complex machine, but now that you've seen what goes on inside, it should be a little less mysterious. GCF Global creating opportunities for a better life.\n"
          ]
        }
      ],
      "source": [
        "import assemblyai as aai\n",
        "aai.settings.api_key = f\"1b315f42226848dba99be2b318c4a365\"\n",
        "FILE_URL = \"/content/video.mp3\"\n",
        "transcriber = aai.Transcriber()\n",
        "transcript = transcriber.transcribe(FILE_URL)\n",
        "print(transcript.text)"
      ]
    },
    {
      "cell_type": "code",
      "execution_count": 35,
      "metadata": {
        "colab": {
          "base_uri": "https://localhost:8080/"
        },
        "id": "-fO0bfw2lryR",
        "outputId": "f665971e-1c3e-415a-84cc-a61983d34541"
      },
      "outputs": [
        {
          "output_type": "stream",
          "name": "stdout",
          "text": [
            "<class 'str'>\n"
          ]
        }
      ],
      "source": [
        "print(type(transcript.text))"
      ]
    },
    {
      "cell_type": "markdown",
      "source": [
        "TEXT SUMMARIZATION"
      ],
      "metadata": {
        "id": "4XudGlpYz_n5"
      }
    },
    {
      "cell_type": "code",
      "source": [
        "text = transcript.text\n",
        "print(text)"
      ],
      "metadata": {
        "colab": {
          "base_uri": "https://localhost:8080/"
        },
        "id": "WvSF-JsmjRsv",
        "outputId": "cb4a9389-fc08-4dae-ff0a-ec4fd1b1e94b"
      },
      "execution_count": 37,
      "outputs": [
        {
          "output_type": "stream",
          "name": "stdout",
          "text": [
            "You may already know that there are many important parts inside a computer, but what exactly do they do? Let's take a look inside and learn about the various components that make a computer work. Whether it's a desktop computer or a laptop, every computer has a large circuit board called a motherboard. This contains some of the most important parts of the computer, such as the CP, also known as the central processing unit or processor. The CPU can be considered the brain of the computer because it processes information and carries out commands. Since it tends to get hot, it's covered by a piece of metal called a heatsink, which draws heat away from the processor. The motherboard also contains the computer's ram, or random access memory. This is the short term memory that the computer uses whenever it's performing calculations. However, you cannot store your files there because the ram is cleared when you shut off the computer. The hard drive provides long term storage, keeping all of the computer's data even when it's turned off. Many hard drives use a magnetic platter to store data, but many newer computers have solid state drives, which are faster and more durable, but also more expensive. On many desktop computers, the motherboard has expansion slots that allow you to upgrade by adding expansion cards. You can add a video card to get better graphics performance, or you can add a wireless card to connect to your wireless home network. Most laptops, however, don't have expansion slots. Of course, the computer's components need electricity to run. The power supply unit is designed to take power from the wall outlet and send it to all of the different components that need power. Laptops also contain a built in battery that lets you use them anywhere. A computer is a pretty complex machine, but now that you've seen what goes on inside, it should be a little less mysterious. GCF Global creating opportunities for a better life.\n"
          ]
        }
      ]
    },
    {
      "cell_type": "code",
      "source": [
        "!pip install -U spacy\n",
        "!python -m spacy download en_core_web_sm"
      ],
      "metadata": {
        "id": "GB7e3V_4jRpV",
        "colab": {
          "base_uri": "https://localhost:8080/"
        },
        "outputId": "8c212a4b-ac6c-40ce-9c59-27cd5ce74b9b"
      },
      "execution_count": 38,
      "outputs": [
        {
          "output_type": "stream",
          "name": "stdout",
          "text": [
            "Requirement already satisfied: spacy in /usr/local/lib/python3.10/dist-packages (3.7.4)\n",
            "Requirement already satisfied: spacy-legacy<3.1.0,>=3.0.11 in /usr/local/lib/python3.10/dist-packages (from spacy) (3.0.12)\n",
            "Requirement already satisfied: spacy-loggers<2.0.0,>=1.0.0 in /usr/local/lib/python3.10/dist-packages (from spacy) (1.0.5)\n",
            "Requirement already satisfied: murmurhash<1.1.0,>=0.28.0 in /usr/local/lib/python3.10/dist-packages (from spacy) (1.0.10)\n",
            "Requirement already satisfied: cymem<2.1.0,>=2.0.2 in /usr/local/lib/python3.10/dist-packages (from spacy) (2.0.8)\n",
            "Requirement already satisfied: preshed<3.1.0,>=3.0.2 in /usr/local/lib/python3.10/dist-packages (from spacy) (3.0.9)\n",
            "Requirement already satisfied: thinc<8.3.0,>=8.2.2 in /usr/local/lib/python3.10/dist-packages (from spacy) (8.2.3)\n",
            "Requirement already satisfied: wasabi<1.2.0,>=0.9.1 in /usr/local/lib/python3.10/dist-packages (from spacy) (1.1.2)\n",
            "Requirement already satisfied: srsly<3.0.0,>=2.4.3 in /usr/local/lib/python3.10/dist-packages (from spacy) (2.4.8)\n",
            "Requirement already satisfied: catalogue<2.1.0,>=2.0.6 in /usr/local/lib/python3.10/dist-packages (from spacy) (2.0.10)\n",
            "Requirement already satisfied: weasel<0.4.0,>=0.1.0 in /usr/local/lib/python3.10/dist-packages (from spacy) (0.3.4)\n",
            "Requirement already satisfied: typer<0.10.0,>=0.3.0 in /usr/local/lib/python3.10/dist-packages (from spacy) (0.9.0)\n",
            "Requirement already satisfied: smart-open<7.0.0,>=5.2.1 in /usr/local/lib/python3.10/dist-packages (from spacy) (6.4.0)\n",
            "Requirement already satisfied: tqdm<5.0.0,>=4.38.0 in /usr/local/lib/python3.10/dist-packages (from spacy) (4.66.2)\n",
            "Requirement already satisfied: requests<3.0.0,>=2.13.0 in /usr/local/lib/python3.10/dist-packages (from spacy) (2.31.0)\n",
            "Requirement already satisfied: pydantic!=1.8,!=1.8.1,<3.0.0,>=1.7.4 in /usr/local/lib/python3.10/dist-packages (from spacy) (2.6.3)\n",
            "Requirement already satisfied: jinja2 in /usr/local/lib/python3.10/dist-packages (from spacy) (3.1.3)\n",
            "Requirement already satisfied: setuptools in /usr/local/lib/python3.10/dist-packages (from spacy) (67.7.2)\n",
            "Requirement already satisfied: packaging>=20.0 in /usr/local/lib/python3.10/dist-packages (from spacy) (23.2)\n",
            "Requirement already satisfied: langcodes<4.0.0,>=3.2.0 in /usr/local/lib/python3.10/dist-packages (from spacy) (3.3.0)\n",
            "Requirement already satisfied: numpy>=1.19.0 in /usr/local/lib/python3.10/dist-packages (from spacy) (1.25.2)\n",
            "Requirement already satisfied: annotated-types>=0.4.0 in /usr/local/lib/python3.10/dist-packages (from pydantic!=1.8,!=1.8.1,<3.0.0,>=1.7.4->spacy) (0.6.0)\n",
            "Requirement already satisfied: pydantic-core==2.16.3 in /usr/local/lib/python3.10/dist-packages (from pydantic!=1.8,!=1.8.1,<3.0.0,>=1.7.4->spacy) (2.16.3)\n",
            "Requirement already satisfied: typing-extensions>=4.6.1 in /usr/local/lib/python3.10/dist-packages (from pydantic!=1.8,!=1.8.1,<3.0.0,>=1.7.4->spacy) (4.10.0)\n",
            "Requirement already satisfied: charset-normalizer<4,>=2 in /usr/local/lib/python3.10/dist-packages (from requests<3.0.0,>=2.13.0->spacy) (3.3.2)\n",
            "Requirement already satisfied: idna<4,>=2.5 in /usr/local/lib/python3.10/dist-packages (from requests<3.0.0,>=2.13.0->spacy) (3.6)\n",
            "Requirement already satisfied: urllib3<3,>=1.21.1 in /usr/local/lib/python3.10/dist-packages (from requests<3.0.0,>=2.13.0->spacy) (2.0.7)\n",
            "Requirement already satisfied: certifi>=2017.4.17 in /usr/local/lib/python3.10/dist-packages (from requests<3.0.0,>=2.13.0->spacy) (2024.2.2)\n",
            "Requirement already satisfied: blis<0.8.0,>=0.7.8 in /usr/local/lib/python3.10/dist-packages (from thinc<8.3.0,>=8.2.2->spacy) (0.7.11)\n",
            "Requirement already satisfied: confection<1.0.0,>=0.0.1 in /usr/local/lib/python3.10/dist-packages (from thinc<8.3.0,>=8.2.2->spacy) (0.1.4)\n",
            "Requirement already satisfied: click<9.0.0,>=7.1.1 in /usr/local/lib/python3.10/dist-packages (from typer<0.10.0,>=0.3.0->spacy) (8.1.7)\n",
            "Requirement already satisfied: cloudpathlib<0.17.0,>=0.7.0 in /usr/local/lib/python3.10/dist-packages (from weasel<0.4.0,>=0.1.0->spacy) (0.16.0)\n",
            "Requirement already satisfied: MarkupSafe>=2.0 in /usr/local/lib/python3.10/dist-packages (from jinja2->spacy) (2.1.5)\n",
            "Collecting en-core-web-sm==3.7.1\n",
            "  Downloading https://github.com/explosion/spacy-models/releases/download/en_core_web_sm-3.7.1/en_core_web_sm-3.7.1-py3-none-any.whl (12.8 MB)\n",
            "\u001b[2K     \u001b[90m━━━━━━━━━━━━━━━━━━━━━━━━━━━━━━━━━━━━━━━━\u001b[0m \u001b[32m12.8/12.8 MB\u001b[0m \u001b[31m56.3 MB/s\u001b[0m eta \u001b[36m0:00:00\u001b[0m\n",
            "\u001b[?25hRequirement already satisfied: spacy<3.8.0,>=3.7.2 in /usr/local/lib/python3.10/dist-packages (from en-core-web-sm==3.7.1) (3.7.4)\n",
            "Requirement already satisfied: spacy-legacy<3.1.0,>=3.0.11 in /usr/local/lib/python3.10/dist-packages (from spacy<3.8.0,>=3.7.2->en-core-web-sm==3.7.1) (3.0.12)\n",
            "Requirement already satisfied: spacy-loggers<2.0.0,>=1.0.0 in /usr/local/lib/python3.10/dist-packages (from spacy<3.8.0,>=3.7.2->en-core-web-sm==3.7.1) (1.0.5)\n",
            "Requirement already satisfied: murmurhash<1.1.0,>=0.28.0 in /usr/local/lib/python3.10/dist-packages (from spacy<3.8.0,>=3.7.2->en-core-web-sm==3.7.1) (1.0.10)\n",
            "Requirement already satisfied: cymem<2.1.0,>=2.0.2 in /usr/local/lib/python3.10/dist-packages (from spacy<3.8.0,>=3.7.2->en-core-web-sm==3.7.1) (2.0.8)\n",
            "Requirement already satisfied: preshed<3.1.0,>=3.0.2 in /usr/local/lib/python3.10/dist-packages (from spacy<3.8.0,>=3.7.2->en-core-web-sm==3.7.1) (3.0.9)\n",
            "Requirement already satisfied: thinc<8.3.0,>=8.2.2 in /usr/local/lib/python3.10/dist-packages (from spacy<3.8.0,>=3.7.2->en-core-web-sm==3.7.1) (8.2.3)\n",
            "Requirement already satisfied: wasabi<1.2.0,>=0.9.1 in /usr/local/lib/python3.10/dist-packages (from spacy<3.8.0,>=3.7.2->en-core-web-sm==3.7.1) (1.1.2)\n",
            "Requirement already satisfied: srsly<3.0.0,>=2.4.3 in /usr/local/lib/python3.10/dist-packages (from spacy<3.8.0,>=3.7.2->en-core-web-sm==3.7.1) (2.4.8)\n",
            "Requirement already satisfied: catalogue<2.1.0,>=2.0.6 in /usr/local/lib/python3.10/dist-packages (from spacy<3.8.0,>=3.7.2->en-core-web-sm==3.7.1) (2.0.10)\n",
            "Requirement already satisfied: weasel<0.4.0,>=0.1.0 in /usr/local/lib/python3.10/dist-packages (from spacy<3.8.0,>=3.7.2->en-core-web-sm==3.7.1) (0.3.4)\n",
            "Requirement already satisfied: typer<0.10.0,>=0.3.0 in /usr/local/lib/python3.10/dist-packages (from spacy<3.8.0,>=3.7.2->en-core-web-sm==3.7.1) (0.9.0)\n",
            "Requirement already satisfied: smart-open<7.0.0,>=5.2.1 in /usr/local/lib/python3.10/dist-packages (from spacy<3.8.0,>=3.7.2->en-core-web-sm==3.7.1) (6.4.0)\n",
            "Requirement already satisfied: tqdm<5.0.0,>=4.38.0 in /usr/local/lib/python3.10/dist-packages (from spacy<3.8.0,>=3.7.2->en-core-web-sm==3.7.1) (4.66.2)\n",
            "Requirement already satisfied: requests<3.0.0,>=2.13.0 in /usr/local/lib/python3.10/dist-packages (from spacy<3.8.0,>=3.7.2->en-core-web-sm==3.7.1) (2.31.0)\n",
            "Requirement already satisfied: pydantic!=1.8,!=1.8.1,<3.0.0,>=1.7.4 in /usr/local/lib/python3.10/dist-packages (from spacy<3.8.0,>=3.7.2->en-core-web-sm==3.7.1) (2.6.3)\n",
            "Requirement already satisfied: jinja2 in /usr/local/lib/python3.10/dist-packages (from spacy<3.8.0,>=3.7.2->en-core-web-sm==3.7.1) (3.1.3)\n",
            "Requirement already satisfied: setuptools in /usr/local/lib/python3.10/dist-packages (from spacy<3.8.0,>=3.7.2->en-core-web-sm==3.7.1) (67.7.2)\n",
            "Requirement already satisfied: packaging>=20.0 in /usr/local/lib/python3.10/dist-packages (from spacy<3.8.0,>=3.7.2->en-core-web-sm==3.7.1) (23.2)\n",
            "Requirement already satisfied: langcodes<4.0.0,>=3.2.0 in /usr/local/lib/python3.10/dist-packages (from spacy<3.8.0,>=3.7.2->en-core-web-sm==3.7.1) (3.3.0)\n",
            "Requirement already satisfied: numpy>=1.19.0 in /usr/local/lib/python3.10/dist-packages (from spacy<3.8.0,>=3.7.2->en-core-web-sm==3.7.1) (1.25.2)\n",
            "Requirement already satisfied: annotated-types>=0.4.0 in /usr/local/lib/python3.10/dist-packages (from pydantic!=1.8,!=1.8.1,<3.0.0,>=1.7.4->spacy<3.8.0,>=3.7.2->en-core-web-sm==3.7.1) (0.6.0)\n",
            "Requirement already satisfied: pydantic-core==2.16.3 in /usr/local/lib/python3.10/dist-packages (from pydantic!=1.8,!=1.8.1,<3.0.0,>=1.7.4->spacy<3.8.0,>=3.7.2->en-core-web-sm==3.7.1) (2.16.3)\n",
            "Requirement already satisfied: typing-extensions>=4.6.1 in /usr/local/lib/python3.10/dist-packages (from pydantic!=1.8,!=1.8.1,<3.0.0,>=1.7.4->spacy<3.8.0,>=3.7.2->en-core-web-sm==3.7.1) (4.10.0)\n",
            "Requirement already satisfied: charset-normalizer<4,>=2 in /usr/local/lib/python3.10/dist-packages (from requests<3.0.0,>=2.13.0->spacy<3.8.0,>=3.7.2->en-core-web-sm==3.7.1) (3.3.2)\n",
            "Requirement already satisfied: idna<4,>=2.5 in /usr/local/lib/python3.10/dist-packages (from requests<3.0.0,>=2.13.0->spacy<3.8.0,>=3.7.2->en-core-web-sm==3.7.1) (3.6)\n",
            "Requirement already satisfied: urllib3<3,>=1.21.1 in /usr/local/lib/python3.10/dist-packages (from requests<3.0.0,>=2.13.0->spacy<3.8.0,>=3.7.2->en-core-web-sm==3.7.1) (2.0.7)\n",
            "Requirement already satisfied: certifi>=2017.4.17 in /usr/local/lib/python3.10/dist-packages (from requests<3.0.0,>=2.13.0->spacy<3.8.0,>=3.7.2->en-core-web-sm==3.7.1) (2024.2.2)\n",
            "Requirement already satisfied: blis<0.8.0,>=0.7.8 in /usr/local/lib/python3.10/dist-packages (from thinc<8.3.0,>=8.2.2->spacy<3.8.0,>=3.7.2->en-core-web-sm==3.7.1) (0.7.11)\n",
            "Requirement already satisfied: confection<1.0.0,>=0.0.1 in /usr/local/lib/python3.10/dist-packages (from thinc<8.3.0,>=8.2.2->spacy<3.8.0,>=3.7.2->en-core-web-sm==3.7.1) (0.1.4)\n",
            "Requirement already satisfied: click<9.0.0,>=7.1.1 in /usr/local/lib/python3.10/dist-packages (from typer<0.10.0,>=0.3.0->spacy<3.8.0,>=3.7.2->en-core-web-sm==3.7.1) (8.1.7)\n",
            "Requirement already satisfied: cloudpathlib<0.17.0,>=0.7.0 in /usr/local/lib/python3.10/dist-packages (from weasel<0.4.0,>=0.1.0->spacy<3.8.0,>=3.7.2->en-core-web-sm==3.7.1) (0.16.0)\n",
            "Requirement already satisfied: MarkupSafe>=2.0 in /usr/local/lib/python3.10/dist-packages (from jinja2->spacy<3.8.0,>=3.7.2->en-core-web-sm==3.7.1) (2.1.5)\n",
            "\u001b[38;5;2m✔ Download and installation successful\u001b[0m\n",
            "You can now load the package via spacy.load('en_core_web_sm')\n",
            "\u001b[38;5;3m⚠ Restart to reload dependencies\u001b[0m\n",
            "If you are in a Jupyter or Colab notebook, you may need to restart Python in\n",
            "order to load all the package's dependencies. You can do this by selecting the\n",
            "'Restart kernel' or 'Restart runtime' option.\n"
          ]
        }
      ]
    },
    {
      "cell_type": "code",
      "source": [
        "import spacy\n",
        "from spacy.lang.en.stop_words import STOP_WORDS\n",
        "from string import punctuation"
      ],
      "metadata": {
        "id": "-LzdKEUujRm6"
      },
      "execution_count": 39,
      "outputs": []
    },
    {
      "cell_type": "code",
      "source": [
        "stopwords = STOP_WORDS"
      ],
      "metadata": {
        "id": "oDxo2GBgjRkq"
      },
      "execution_count": 40,
      "outputs": []
    },
    {
      "cell_type": "code",
      "source": [
        "print(stopwords)"
      ],
      "metadata": {
        "id": "eynm2D9njRiN",
        "colab": {
          "base_uri": "https://localhost:8080/"
        },
        "outputId": "944174f4-ab1b-4f30-8547-e2b8448c5f0c"
      },
      "execution_count": 41,
      "outputs": [
        {
          "output_type": "stream",
          "name": "stdout",
          "text": [
            "{'across', 'i', 'up', '‘re', 'per', 'is', 'she', 'ten', 'cannot', '’ll', 'using', 'anyway', 'name', 'do', 'much', 'five', 'either', 'same', 'rather', 'whither', '‘ll', 'none', 'whatever', 'moreover', 'whence', 'ca', 'someone', 'further', 'hers', 'their', 'hence', 'above', 'by', 'namely', 'ours', 'somehow', \"'m\", '’ve', 'only', 'between', 'down', 'take', 'thereupon', 'fifteen', 'whom', 'sometime', 'often', 'else', 'becoming', 'doing', 'we', '’d', 'put', 'become', 'a', '’s', 'whereas', 'serious', 'whoever', 'nine', 'n‘t', 'her', 'besides', 'since', 'give', 'others', 'via', 'against', 'most', 'or', 'call', 'this', 'however', 'could', 'there', 'almost', 'may', 'whereupon', 'below', 'without', 'to', 'thereby', 'twelve', 'anywhere', 'otherwise', 'full', 'yourself', 'anything', 'show', 'thru', 'due', 'although', 'its', 'your', 'still', 'itself', 'too', 'me', 'as', 'another', 'until', 'us', 'before', 'myself', '‘s', 'two', 'but', 'once', 'toward', 'out', 'many', 'everyone', 'afterwards', 'thence', 'everything', 'whereafter', 'get', 'were', 'amongst', 'back', 'should', 'am', 'over', 'while', 'seeming', 'again', '‘d', 'than', 'formerly', 'does', 'whereby', 'last', 'anyhow', 'after', 'first', 'who', 'mine', 'except', 'thus', 'such', 'been', 'indeed', '‘m', 'himself', 'did', 'meanwhile', 'whose', 'beside', 'four', 'various', 'not', 'less', 'under', 'quite', 'of', 'very', 'whether', 'beyond', 'during', \"n't\", \"'re\", 'was', 'next', 'third', 'whenever', 'through', 'part', 'those', 'never', 'had', 'what', 'be', 'our', \"'s\", 'sixty', 'six', 'though', 'even', 'herein', 'least', \"'ll\", 'more', 'nowhere', 'herself', 'perhaps', 're', 'onto', 'my', 'all', 'noone', 'eight', 'every', 'just', 'top', 'which', 'it', '’m', 'whole', 'are', 'around', 'where', 'yours', 'see', 'ever', 'move', 'becomes', 'have', 'on', 'fifty', 'also', 'he', 'unless', 'seems', 'no', 'forty', 'with', 'together', 'him', 'few', 'empty', 'has', 'one', 'being', 'latter', 'about', 'n’t', 'that', 'yet', 'along', 'because', 'thereafter', 'made', 'seemed', 'well', 'latterly', '’re', 'some', 'wherever', \"'ve\", 'seem', 'the', 'always', 'side', 'among', 'own', 'they', 'please', 'and', 'really', 'somewhere', 'done', 'used', 'mostly', 'if', 'them', 'his', 'an', 'beforehand', 'nevertheless', 'regarding', 'anyone', 'both', 'into', 'within', '‘ve', 'front', 'themselves', 'these', 'in', 'already', 'would', 'hereby', 'amount', 'from', 'hereafter', 'nor', 'now', 'any', 'alone', 'elsewhere', 'twenty', 'will', 'eleven', 'ourselves', 'therefore', 'other', 'former', 'why', 'therein', 'for', 'go', 'nobody', 'towards', 'upon', 'throughout', 'enough', 'then', 'sometimes', 'several', 'keep', 'can', 'when', 'how', 'neither', 'make', 'bottom', 'at', 'you', 'each', 'off', 'say', 'wherein', 'hereupon', 'must', 'three', 'hundred', 'yourselves', 'so', 'became', 'nothing', 'behind', 'everywhere', \"'d\", 'something', 'might', 'here'}\n"
          ]
        }
      ]
    },
    {
      "cell_type": "code",
      "source": [
        "nlp = spacy.load('en_core_web_sm')"
      ],
      "metadata": {
        "id": "3VpuUep-jRfs"
      },
      "execution_count": 42,
      "outputs": []
    },
    {
      "cell_type": "code",
      "source": [
        "doc = nlp(text)"
      ],
      "metadata": {
        "id": "kSOpFgetjRdE"
      },
      "execution_count": 43,
      "outputs": []
    },
    {
      "cell_type": "code",
      "source": [
        "print(doc)"
      ],
      "metadata": {
        "colab": {
          "base_uri": "https://localhost:8080/"
        },
        "id": "6qP949DL1GD3",
        "outputId": "935c9a5d-39b3-46b1-ac39-ecbf9ecb117b"
      },
      "execution_count": 44,
      "outputs": [
        {
          "output_type": "stream",
          "name": "stdout",
          "text": [
            "You may already know that there are many important parts inside a computer, but what exactly do they do? Let's take a look inside and learn about the various components that make a computer work. Whether it's a desktop computer or a laptop, every computer has a large circuit board called a motherboard. This contains some of the most important parts of the computer, such as the CP, also known as the central processing unit or processor. The CPU can be considered the brain of the computer because it processes information and carries out commands. Since it tends to get hot, it's covered by a piece of metal called a heatsink, which draws heat away from the processor. The motherboard also contains the computer's ram, or random access memory. This is the short term memory that the computer uses whenever it's performing calculations. However, you cannot store your files there because the ram is cleared when you shut off the computer. The hard drive provides long term storage, keeping all of the computer's data even when it's turned off. Many hard drives use a magnetic platter to store data, but many newer computers have solid state drives, which are faster and more durable, but also more expensive. On many desktop computers, the motherboard has expansion slots that allow you to upgrade by adding expansion cards. You can add a video card to get better graphics performance, or you can add a wireless card to connect to your wireless home network. Most laptops, however, don't have expansion slots. Of course, the computer's components need electricity to run. The power supply unit is designed to take power from the wall outlet and send it to all of the different components that need power. Laptops also contain a built in battery that lets you use them anywhere. A computer is a pretty complex machine, but now that you've seen what goes on inside, it should be a little less mysterious. GCF Global creating opportunities for a better life.\n"
          ]
        }
      ]
    },
    {
      "cell_type": "code",
      "source": [
        "tokens = [token.text for token in doc]\n",
        "print(tokens) #Punctuations and stop words are also the part of tokens"
      ],
      "metadata": {
        "colab": {
          "base_uri": "https://localhost:8080/"
        },
        "id": "S9ZW_wiP1GBM",
        "outputId": "f196b12a-ae3f-4acb-cd95-5a11dadc607a"
      },
      "execution_count": 45,
      "outputs": [
        {
          "output_type": "stream",
          "name": "stdout",
          "text": [
            "['You', 'may', 'already', 'know', 'that', 'there', 'are', 'many', 'important', 'parts', 'inside', 'a', 'computer', ',', 'but', 'what', 'exactly', 'do', 'they', 'do', '?', 'Let', \"'s\", 'take', 'a', 'look', 'inside', 'and', 'learn', 'about', 'the', 'various', 'components', 'that', 'make', 'a', 'computer', 'work', '.', 'Whether', 'it', \"'s\", 'a', 'desktop', 'computer', 'or', 'a', 'laptop', ',', 'every', 'computer', 'has', 'a', 'large', 'circuit', 'board', 'called', 'a', 'motherboard', '.', 'This', 'contains', 'some', 'of', 'the', 'most', 'important', 'parts', 'of', 'the', 'computer', ',', 'such', 'as', 'the', 'CP', ',', 'also', 'known', 'as', 'the', 'central', 'processing', 'unit', 'or', 'processor', '.', 'The', 'CPU', 'can', 'be', 'considered', 'the', 'brain', 'of', 'the', 'computer', 'because', 'it', 'processes', 'information', 'and', 'carries', 'out', 'commands', '.', 'Since', 'it', 'tends', 'to', 'get', 'hot', ',', 'it', \"'s\", 'covered', 'by', 'a', 'piece', 'of', 'metal', 'called', 'a', 'heatsink', ',', 'which', 'draws', 'heat', 'away', 'from', 'the', 'processor', '.', 'The', 'motherboard', 'also', 'contains', 'the', 'computer', \"'s\", 'ram', ',', 'or', 'random', 'access', 'memory', '.', 'This', 'is', 'the', 'short', 'term', 'memory', 'that', 'the', 'computer', 'uses', 'whenever', 'it', \"'s\", 'performing', 'calculations', '.', 'However', ',', 'you', 'can', 'not', 'store', 'your', 'files', 'there', 'because', 'the', 'ram', 'is', 'cleared', 'when', 'you', 'shut', 'off', 'the', 'computer', '.', 'The', 'hard', 'drive', 'provides', 'long', 'term', 'storage', ',', 'keeping', 'all', 'of', 'the', 'computer', \"'s\", 'data', 'even', 'when', 'it', \"'s\", 'turned', 'off', '.', 'Many', 'hard', 'drives', 'use', 'a', 'magnetic', 'platter', 'to', 'store', 'data', ',', 'but', 'many', 'newer', 'computers', 'have', 'solid', 'state', 'drives', ',', 'which', 'are', 'faster', 'and', 'more', 'durable', ',', 'but', 'also', 'more', 'expensive', '.', 'On', 'many', 'desktop', 'computers', ',', 'the', 'motherboard', 'has', 'expansion', 'slots', 'that', 'allow', 'you', 'to', 'upgrade', 'by', 'adding', 'expansion', 'cards', '.', 'You', 'can', 'add', 'a', 'video', 'card', 'to', 'get', 'better', 'graphics', 'performance', ',', 'or', 'you', 'can', 'add', 'a', 'wireless', 'card', 'to', 'connect', 'to', 'your', 'wireless', 'home', 'network', '.', 'Most', 'laptops', ',', 'however', ',', 'do', \"n't\", 'have', 'expansion', 'slots', '.', 'Of', 'course', ',', 'the', 'computer', \"'s\", 'components', 'need', 'electricity', 'to', 'run', '.', 'The', 'power', 'supply', 'unit', 'is', 'designed', 'to', 'take', 'power', 'from', 'the', 'wall', 'outlet', 'and', 'send', 'it', 'to', 'all', 'of', 'the', 'different', 'components', 'that', 'need', 'power', '.', 'Laptops', 'also', 'contain', 'a', 'built', 'in', 'battery', 'that', 'lets', 'you', 'use', 'them', 'anywhere', '.', 'A', 'computer', 'is', 'a', 'pretty', 'complex', 'machine', ',', 'but', 'now', 'that', 'you', \"'ve\", 'seen', 'what', 'goes', 'on', 'inside', ',', 'it', 'should', 'be', 'a', 'little', 'less', 'mysterious', '.', 'GCF', 'Global', 'creating', 'opportunities', 'for', 'a', 'better', 'life', '.']\n"
          ]
        }
      ]
    },
    {
      "cell_type": "code",
      "source": [
        "#Removing stop words and punctuations\n",
        "print(punctuation)\n",
        "#The list of punctuation does not have new line, therfore we will add new line to it\n",
        "punctuation = punctuation + \"\\n\""
      ],
      "metadata": {
        "colab": {
          "base_uri": "https://localhost:8080/"
        },
        "id": "sZuklI_y1F-X",
        "outputId": "b0c267e6-3845-478f-9e17-86f2f2256efe"
      },
      "execution_count": 46,
      "outputs": [
        {
          "output_type": "stream",
          "name": "stdout",
          "text": [
            "!\"#$%&'()*+,-./:;<=>?@[\\]^_`{|}~\n"
          ]
        }
      ]
    },
    {
      "cell_type": "markdown",
      "source": [
        "1) TEXT CLEANING i.e. removing stop words and punctuations"
      ],
      "metadata": {
        "id": "GCECbfK02Edh"
      }
    },
    {
      "cell_type": "code",
      "source": [
        "word_frequencies = {}\n",
        "for word in doc:\n",
        "  if word.text.lower() not in stopwords:\n",
        "    if word.text.lower() not in punctuation:\n",
        "      if word.text not in word_frequencies.keys():\n",
        "        word_frequencies[word.text] = 1\n",
        "      else:\n",
        "        word_frequencies[word.text] +=1\n",
        "print(word_frequencies)"
      ],
      "metadata": {
        "colab": {
          "base_uri": "https://localhost:8080/"
        },
        "id": "U2t1s4BZ1F2y",
        "outputId": "a312a96a-098d-48d4-afac-5a49c171eafa"
      },
      "execution_count": 49,
      "outputs": [
        {
          "output_type": "stream",
          "name": "stdout",
          "text": [
            "{'know': 1, 'important': 2, 'parts': 2, 'inside': 3, 'computer': 12, 'exactly': 1, 'Let': 1, 'look': 1, 'learn': 1, 'components': 3, 'work': 1, 'desktop': 2, 'laptop': 1, 'large': 1, 'circuit': 1, 'board': 1, 'called': 2, 'motherboard': 3, 'contains': 2, 'CP': 1, 'known': 1, 'central': 1, 'processing': 1, 'unit': 2, 'processor': 2, 'CPU': 1, 'considered': 1, 'brain': 1, 'processes': 1, 'information': 1, 'carries': 1, 'commands': 1, 'tends': 1, 'hot': 1, 'covered': 1, 'piece': 1, 'metal': 1, 'heatsink': 1, 'draws': 1, 'heat': 1, 'away': 1, 'ram': 2, 'random': 1, 'access': 1, 'memory': 2, 'short': 1, 'term': 2, 'uses': 1, 'performing': 1, 'calculations': 1, 'store': 2, 'files': 1, 'cleared': 1, 'shut': 1, 'hard': 2, 'drive': 1, 'provides': 1, 'long': 1, 'storage': 1, 'keeping': 1, 'data': 2, 'turned': 1, 'drives': 2, 'use': 2, 'magnetic': 1, 'platter': 1, 'newer': 1, 'computers': 2, 'solid': 1, 'state': 1, 'faster': 1, 'durable': 1, 'expensive': 1, 'expansion': 3, 'slots': 2, 'allow': 1, 'upgrade': 1, 'adding': 1, 'cards': 1, 'add': 2, 'video': 1, 'card': 2, 'better': 2, 'graphics': 1, 'performance': 1, 'wireless': 2, 'connect': 1, 'home': 1, 'network': 1, 'laptops': 1, 'course': 1, 'need': 2, 'electricity': 1, 'run': 1, 'power': 3, 'supply': 1, 'designed': 1, 'wall': 1, 'outlet': 1, 'send': 1, 'different': 1, 'Laptops': 1, 'contain': 1, 'built': 1, 'battery': 1, 'lets': 1, 'pretty': 1, 'complex': 1, 'machine': 1, 'seen': 1, 'goes': 1, 'little': 1, 'mysterious': 1, 'GCF': 1, 'Global': 1, 'creating': 1, 'opportunities': 1, 'life': 1}\n"
          ]
        }
      ]
    },
    {
      "cell_type": "code",
      "source": [
        "max_freq = max(word_frequencies.values())\n",
        "max_freq = 12\n",
        "print(max_freq)\n"
      ],
      "metadata": {
        "colab": {
          "base_uri": "https://localhost:8080/"
        },
        "id": "Xqk5A8mE1Fzx",
        "outputId": "a3d41240-ae23-4347-f1a3-a6548180cbd9"
      },
      "execution_count": 63,
      "outputs": [
        {
          "output_type": "stream",
          "name": "stdout",
          "text": [
            "12\n"
          ]
        }
      ]
    },
    {
      "cell_type": "code",
      "source": [
        "for word in word_frequencies.keys():\n",
        "  word_frequencies[word] = word_frequencies[word]/max_freq"
      ],
      "metadata": {
        "id": "AMQarA_E1Fw5"
      },
      "execution_count": 52,
      "outputs": []
    },
    {
      "cell_type": "code",
      "source": [
        "for x in word_frequencies.values():\n",
        "  if(x==1.0):\n",
        "    print(word_frequencies)\n",
        "    break"
      ],
      "metadata": {
        "colab": {
          "base_uri": "https://localhost:8080/"
        },
        "id": "cy6DcD8_8grN",
        "outputId": "373a8825-5064-4bb2-80c2-87fceb63586d"
      },
      "execution_count": 61,
      "outputs": [
        {
          "output_type": "stream",
          "name": "stdout",
          "text": [
            "{'know': 0.08333333333333333, 'important': 0.16666666666666666, 'parts': 0.16666666666666666, 'inside': 0.25, 'computer': 1.0, 'exactly': 0.08333333333333333, 'Let': 0.08333333333333333, 'look': 0.08333333333333333, 'learn': 0.08333333333333333, 'components': 0.25, 'work': 0.08333333333333333, 'desktop': 0.16666666666666666, 'laptop': 0.08333333333333333, 'large': 0.08333333333333333, 'circuit': 0.08333333333333333, 'board': 0.08333333333333333, 'called': 0.16666666666666666, 'motherboard': 0.25, 'contains': 0.16666666666666666, 'CP': 0.08333333333333333, 'known': 0.08333333333333333, 'central': 0.08333333333333333, 'processing': 0.08333333333333333, 'unit': 0.16666666666666666, 'processor': 0.16666666666666666, 'CPU': 0.08333333333333333, 'considered': 0.08333333333333333, 'brain': 0.08333333333333333, 'processes': 0.08333333333333333, 'information': 0.08333333333333333, 'carries': 0.08333333333333333, 'commands': 0.08333333333333333, 'tends': 0.08333333333333333, 'hot': 0.08333333333333333, 'covered': 0.08333333333333333, 'piece': 0.08333333333333333, 'metal': 0.08333333333333333, 'heatsink': 0.08333333333333333, 'draws': 0.08333333333333333, 'heat': 0.08333333333333333, 'away': 0.08333333333333333, 'ram': 0.16666666666666666, 'random': 0.08333333333333333, 'access': 0.08333333333333333, 'memory': 0.16666666666666666, 'short': 0.08333333333333333, 'term': 0.16666666666666666, 'uses': 0.08333333333333333, 'performing': 0.08333333333333333, 'calculations': 0.08333333333333333, 'store': 0.16666666666666666, 'files': 0.08333333333333333, 'cleared': 0.08333333333333333, 'shut': 0.08333333333333333, 'hard': 0.16666666666666666, 'drive': 0.08333333333333333, 'provides': 0.08333333333333333, 'long': 0.08333333333333333, 'storage': 0.08333333333333333, 'keeping': 0.08333333333333333, 'data': 0.16666666666666666, 'turned': 0.08333333333333333, 'drives': 0.16666666666666666, 'use': 0.16666666666666666, 'magnetic': 0.08333333333333333, 'platter': 0.08333333333333333, 'newer': 0.08333333333333333, 'computers': 0.16666666666666666, 'solid': 0.08333333333333333, 'state': 0.08333333333333333, 'faster': 0.08333333333333333, 'durable': 0.08333333333333333, 'expensive': 0.08333333333333333, 'expansion': 0.25, 'slots': 0.16666666666666666, 'allow': 0.08333333333333333, 'upgrade': 0.08333333333333333, 'adding': 0.08333333333333333, 'cards': 0.08333333333333333, 'add': 0.16666666666666666, 'video': 0.08333333333333333, 'card': 0.16666666666666666, 'better': 0.16666666666666666, 'graphics': 0.08333333333333333, 'performance': 0.08333333333333333, 'wireless': 0.16666666666666666, 'connect': 0.08333333333333333, 'home': 0.08333333333333333, 'network': 0.08333333333333333, 'laptops': 0.08333333333333333, 'course': 0.08333333333333333, 'need': 0.16666666666666666, 'electricity': 0.08333333333333333, 'run': 0.08333333333333333, 'power': 0.25, 'supply': 0.08333333333333333, 'designed': 0.08333333333333333, 'wall': 0.08333333333333333, 'outlet': 0.08333333333333333, 'send': 0.08333333333333333, 'different': 0.08333333333333333, 'Laptops': 0.08333333333333333, 'contain': 0.08333333333333333, 'built': 0.08333333333333333, 'battery': 0.08333333333333333, 'lets': 0.08333333333333333, 'pretty': 0.08333333333333333, 'complex': 0.08333333333333333, 'machine': 0.08333333333333333, 'seen': 0.08333333333333333, 'goes': 0.08333333333333333, 'little': 0.08333333333333333, 'mysterious': 0.08333333333333333, 'GCF': 0.08333333333333333, 'Global': 0.08333333333333333, 'creating': 0.08333333333333333, 'opportunities': 0.08333333333333333, 'life': 0.08333333333333333}\n"
          ]
        }
      ]
    },
    {
      "cell_type": "code",
      "source": [
        "print(word_frequencies)"
      ],
      "metadata": {
        "colab": {
          "base_uri": "https://localhost:8080/"
        },
        "id": "t3mqM0mj1Ft1",
        "outputId": "e9ad1def-eb76-443d-c2b2-e6cc531941e6"
      },
      "execution_count": 54,
      "outputs": [
        {
          "output_type": "stream",
          "name": "stdout",
          "text": [
            "{'know': 0.08333333333333333, 'important': 0.16666666666666666, 'parts': 0.16666666666666666, 'inside': 0.25, 'computer': 1.0, 'exactly': 0.08333333333333333, 'Let': 0.08333333333333333, 'look': 0.08333333333333333, 'learn': 0.08333333333333333, 'components': 0.25, 'work': 0.08333333333333333, 'desktop': 0.16666666666666666, 'laptop': 0.08333333333333333, 'large': 0.08333333333333333, 'circuit': 0.08333333333333333, 'board': 0.08333333333333333, 'called': 0.16666666666666666, 'motherboard': 0.25, 'contains': 0.16666666666666666, 'CP': 0.08333333333333333, 'known': 0.08333333333333333, 'central': 0.08333333333333333, 'processing': 0.08333333333333333, 'unit': 0.16666666666666666, 'processor': 0.16666666666666666, 'CPU': 0.08333333333333333, 'considered': 0.08333333333333333, 'brain': 0.08333333333333333, 'processes': 0.08333333333333333, 'information': 0.08333333333333333, 'carries': 0.08333333333333333, 'commands': 0.08333333333333333, 'tends': 0.08333333333333333, 'hot': 0.08333333333333333, 'covered': 0.08333333333333333, 'piece': 0.08333333333333333, 'metal': 0.08333333333333333, 'heatsink': 0.08333333333333333, 'draws': 0.08333333333333333, 'heat': 0.08333333333333333, 'away': 0.08333333333333333, 'ram': 0.16666666666666666, 'random': 0.08333333333333333, 'access': 0.08333333333333333, 'memory': 0.16666666666666666, 'short': 0.08333333333333333, 'term': 0.16666666666666666, 'uses': 0.08333333333333333, 'performing': 0.08333333333333333, 'calculations': 0.08333333333333333, 'store': 0.16666666666666666, 'files': 0.08333333333333333, 'cleared': 0.08333333333333333, 'shut': 0.08333333333333333, 'hard': 0.16666666666666666, 'drive': 0.08333333333333333, 'provides': 0.08333333333333333, 'long': 0.08333333333333333, 'storage': 0.08333333333333333, 'keeping': 0.08333333333333333, 'data': 0.16666666666666666, 'turned': 0.08333333333333333, 'drives': 0.16666666666666666, 'use': 0.16666666666666666, 'magnetic': 0.08333333333333333, 'platter': 0.08333333333333333, 'newer': 0.08333333333333333, 'computers': 0.16666666666666666, 'solid': 0.08333333333333333, 'state': 0.08333333333333333, 'faster': 0.08333333333333333, 'durable': 0.08333333333333333, 'expensive': 0.08333333333333333, 'expansion': 0.25, 'slots': 0.16666666666666666, 'allow': 0.08333333333333333, 'upgrade': 0.08333333333333333, 'adding': 0.08333333333333333, 'cards': 0.08333333333333333, 'add': 0.16666666666666666, 'video': 0.08333333333333333, 'card': 0.16666666666666666, 'better': 0.16666666666666666, 'graphics': 0.08333333333333333, 'performance': 0.08333333333333333, 'wireless': 0.16666666666666666, 'connect': 0.08333333333333333, 'home': 0.08333333333333333, 'network': 0.08333333333333333, 'laptops': 0.08333333333333333, 'course': 0.08333333333333333, 'need': 0.16666666666666666, 'electricity': 0.08333333333333333, 'run': 0.08333333333333333, 'power': 0.25, 'supply': 0.08333333333333333, 'designed': 0.08333333333333333, 'wall': 0.08333333333333333, 'outlet': 0.08333333333333333, 'send': 0.08333333333333333, 'different': 0.08333333333333333, 'Laptops': 0.08333333333333333, 'contain': 0.08333333333333333, 'built': 0.08333333333333333, 'battery': 0.08333333333333333, 'lets': 0.08333333333333333, 'pretty': 0.08333333333333333, 'complex': 0.08333333333333333, 'machine': 0.08333333333333333, 'seen': 0.08333333333333333, 'goes': 0.08333333333333333, 'little': 0.08333333333333333, 'mysterious': 0.08333333333333333, 'GCF': 0.08333333333333333, 'Global': 0.08333333333333333, 'creating': 0.08333333333333333, 'opportunities': 0.08333333333333333, 'life': 0.08333333333333333}\n"
          ]
        }
      ]
    },
    {
      "cell_type": "code",
      "source": [
        "sentence_tokenization = [sent for sent in doc.sents]\n",
        "print(sentence_tokenization)"
      ],
      "metadata": {
        "colab": {
          "base_uri": "https://localhost:8080/"
        },
        "id": "8QiCao_89w6L",
        "outputId": "a4ecef1a-f17d-41f0-9d38-9e9f5d2cdaea"
      },
      "execution_count": 64,
      "outputs": [
        {
          "output_type": "stream",
          "name": "stdout",
          "text": [
            "[You may already know that there are many important parts inside a computer, but what exactly do they do?, Let's take a look inside and learn about the various components that make a computer work., Whether it's a desktop computer or a laptop, every computer has a large circuit board called a motherboard., This contains some of the most important parts of the computer, such as the CP, also known as the central processing unit or processor., The CPU can be considered the brain of the computer because it processes information and carries out commands., Since it tends to get hot, it's covered by a piece of metal called a heatsink, which draws heat away from the processor., The motherboard also contains the computer's ram, or random access memory., This is the short term memory that the computer uses whenever it's performing calculations., However, you cannot store your files there because the ram is cleared when you shut off the computer., The hard drive provides long term storage, keeping all of the computer's data even when it's turned off., Many hard drives use a magnetic platter to store data, but many newer computers have solid state drives, which are faster and more durable, but also more expensive., On many desktop computers, the motherboard has expansion slots that allow you to upgrade by adding expansion cards., You can add a video card to get better graphics performance, or you can add a wireless card to connect to your wireless home network., Most laptops, however, don't have expansion slots., Of course, the computer's components need electricity to run., The power supply unit is designed to take power from the wall outlet and send it to all of the different components that need power., Laptops also contain a built in battery that lets you use them anywhere., A computer is a pretty complex machine, but now that you've seen what goes on inside, it should be a little less mysterious., GCF Global creating opportunities for a better life.]\n"
          ]
        }
      ]
    },
    {
      "cell_type": "code",
      "source": [
        "sentence_score = {}\n",
        "for sent in sentence_tokenization:\n",
        "  for word in sent:\n",
        "    if word.text.lower() in word_frequencies.keys():\n",
        "      if sent not in sentence_score.keys():\n",
        "        sentence_score[sent] = word_frequencies[word.text.lower()]\n",
        "      else:\n",
        "        sentence_score[sent] += word_frequencies[word.text.lower()]\n",
        "print(sentence_score)"
      ],
      "metadata": {
        "colab": {
          "base_uri": "https://localhost:8080/"
        },
        "id": "Slbld4Xk-HNo",
        "outputId": "29f5316c-a708-42f4-8e2b-b61e01a05745"
      },
      "execution_count": 66,
      "outputs": [
        {
          "output_type": "stream",
          "name": "stdout",
          "text": [
            "{You may already know that there are many important parts inside a computer, but what exactly do they do?: 1.7499999999999998, Let's take a look inside and learn about the various components that make a computer work.: 1.7499999999999998, Whether it's a desktop computer or a laptop, every computer has a large circuit board called a motherboard.: 2.916666666666667, This contains some of the most important parts of the computer, such as the CP, also known as the central processing unit or processor.: 2.083333333333333, The CPU can be considered the brain of the computer because it processes information and carries out commands.: 1.4999999999999998, Since it tends to get hot, it's covered by a piece of metal called a heatsink, which draws heat away from the processor.: 1.0833333333333335, The motherboard also contains the computer's ram, or random access memory.: 1.9166666666666665, This is the short term memory that the computer uses whenever it's performing calculations.: 1.6666666666666663, However, you cannot store your files there because the ram is cleared when you shut off the computer.: 1.5833333333333333, The hard drive provides long term storage, keeping all of the computer's data even when it's turned off.: 2.0, Many hard drives use a magnetic platter to store data, but many newer computers have solid state drives, which are faster and more durable, but also more expensive.: 1.833333333333333, On many desktop computers, the motherboard has expansion slots that allow you to upgrade by adding expansion cards.: 1.583333333333333, You can add a video card to get better graphics performance, or you can add a wireless card to connect to your wireless home network.: 1.6666666666666665, Most laptops, however, don't have expansion slots.: 0.5, Of course, the computer's components need electricity to run.: 1.6666666666666665, The power supply unit is designed to take power from the wall outlet and send it to all of the different components that need power.: 1.8333333333333333, Laptops also contain a built in battery that lets you use them anywhere.: 0.5833333333333333, A computer is a pretty complex machine, but now that you've seen what goes on inside, it should be a little less mysterious.: 1.8333333333333328, GCF Global creating opportunities for a better life.: 0.41666666666666663}\n"
          ]
        }
      ]
    },
    {
      "cell_type": "code",
      "source": [
        "from heapq import nlargest"
      ],
      "metadata": {
        "id": "v8edjnPq-HJv"
      },
      "execution_count": 67,
      "outputs": []
    },
    {
      "cell_type": "code",
      "source": [
        "select_length = int(len(sentence_tokenization)*0.3)\n",
        "print(select_length)"
      ],
      "metadata": {
        "colab": {
          "base_uri": "https://localhost:8080/"
        },
        "id": "y9_pi2FA-HHe",
        "outputId": "aca62998-ae81-4f1e-b6f4-187afa7e7a82"
      },
      "execution_count": 69,
      "outputs": [
        {
          "output_type": "stream",
          "name": "stdout",
          "text": [
            "5\n"
          ]
        }
      ]
    },
    {
      "cell_type": "code",
      "source": [
        "summary = nlargest(select_length, sentence_score, key = sentence_score.get)\n",
        "print(summary)"
      ],
      "metadata": {
        "colab": {
          "base_uri": "https://localhost:8080/"
        },
        "id": "9jmbUBYU-HE5",
        "outputId": "1314c91f-857a-4d50-9088-4a9922a48fc9"
      },
      "execution_count": 71,
      "outputs": [
        {
          "output_type": "stream",
          "name": "stdout",
          "text": [
            "[Whether it's a desktop computer or a laptop, every computer has a large circuit board called a motherboard., This contains some of the most important parts of the computer, such as the CP, also known as the central processing unit or processor., The hard drive provides long term storage, keeping all of the computer's data even when it's turned off., The motherboard also contains the computer's ram, or random access memory., The power supply unit is designed to take power from the wall outlet and send it to all of the different components that need power.]\n"
          ]
        }
      ]
    },
    {
      "cell_type": "code",
      "source": [
        "final_summary = [word.text for word in summary]"
      ],
      "metadata": {
        "id": "qZlSgxFo-HBs"
      },
      "execution_count": 73,
      "outputs": []
    },
    {
      "cell_type": "code",
      "source": [
        "summary = ' '.join(final_summary)"
      ],
      "metadata": {
        "id": "0ahjHIPp-G19"
      },
      "execution_count": 74,
      "outputs": []
    },
    {
      "cell_type": "code",
      "source": [
        "print(summary)"
      ],
      "metadata": {
        "colab": {
          "base_uri": "https://localhost:8080/"
        },
        "id": "zun1QLz6AOLi",
        "outputId": "5338d4ae-90c2-4996-95ad-ef9a235c0b64"
      },
      "execution_count": 75,
      "outputs": [
        {
          "output_type": "stream",
          "name": "stdout",
          "text": [
            "Whether it's a desktop computer or a laptop, every computer has a large circuit board called a motherboard. This contains some of the most important parts of the computer, such as the CP, also known as the central processing unit or processor. The hard drive provides long term storage, keeping all of the computer's data even when it's turned off. The motherboard also contains the computer's ram, or random access memory. The power supply unit is designed to take power from the wall outlet and send it to all of the different components that need power.\n"
          ]
        }
      ]
    }
  ],
  "metadata": {
    "colab": {
      "provenance": []
    },
    "kernelspec": {
      "display_name": "Python 3",
      "name": "python3"
    },
    "language_info": {
      "name": "python"
    }
  },
  "nbformat": 4,
  "nbformat_minor": 0
}